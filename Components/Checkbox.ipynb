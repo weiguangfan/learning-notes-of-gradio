{
 "cells": [
  {
   "cell_type": "code",
   "execution_count": 1,
   "id": "4efb5884",
   "metadata": {},
   "outputs": [
    {
     "name": "stdout",
     "output_type": "stream",
     "text": [
      "Running on local URL:  http://127.0.0.1:7887\n",
      "\n",
      "To create a public link, set `share=True` in `launch()`.\n"
     ]
    },
    {
     "data": {
      "text/html": [
       "<div><iframe src=\"http://127.0.0.1:7887/\" width=\"100%\" height=\"500\" allow=\"autoplay; camera; microphone; clipboard-read; clipboard-write;\" frameborder=\"0\" allowfullscreen></iframe></div>"
      ],
      "text/plain": [
       "<IPython.core.display.HTML object>"
      ]
     },
     "metadata": {},
     "output_type": "display_data"
    }
   ],
   "source": [
    "import gradio as gr\n",
    "\n",
    "\n",
    "def sentence_builder(quantity, animal, countries, place, activity_list, morning):\n",
    "    return f\"\"\"The {quantity} {animal}s from {\" and \".join(countries)} went to the {place} where they {\" and \".join(activity_list)} until the {\"morning\" if morning else \"night\"}\"\"\"\n",
    "\n",
    "\n",
    "demo = gr.Interface(\n",
    "    sentence_builder,\n",
    "    [\n",
    "        gr.Slider(2, 20, value=4, label=\"Count\", info=\"Choose between 2 and 20\"),\n",
    "        gr.Dropdown(\n",
    "            [\"cat\", \"dog\", \"bird\"], label=\"Animal\", info=\"Will add more animals later!\"\n",
    "        ),\n",
    "        gr.CheckboxGroup([\"USA\", \"Japan\", \"Pakistan\"], label=\"Countries\", info=\"Where are they from?\"),\n",
    "        gr.Radio([\"park\", \"zoo\", \"road\"], label=\"Location\", info=\"Where did they go?\"),\n",
    "        gr.Dropdown(\n",
    "            [\"ran\", \"swam\", \"ate\", \"slept\"], value=[\"swam\", \"slept\"], multiselect=True, label=\"Activity\", info=\"Lorem ipsum dolor sit amet, consectetur adipiscing elit. Sed auctor, nisl eget ultricies aliquam, nunc nisl aliquet nunc, eget aliquam nisl nunc vel nisl.\"\n",
    "        ),\n",
    "        gr.Checkbox(label=\"Morning\", info=\"Did they do it in the morning?\"),\n",
    "    ],\n",
    "    \"text\",\n",
    "    examples=[\n",
    "        [2, \"cat\", [\"Japan\", \"Pakistan\"], \"park\", [\"ate\", \"swam\"], True],\n",
    "        [4, \"dog\", [\"Japan\"], \"zoo\", [\"ate\", \"swam\"], False],\n",
    "        [10, \"bird\", [\"USA\", \"Pakistan\"], \"road\", [\"ran\"], False],\n",
    "        [8, \"cat\", [\"Pakistan\"], \"zoo\", [\"ate\"], True],\n",
    "    ]\n",
    ")\n",
    "\n",
    "if __name__ == \"__main__\":\n",
    "    demo.launch()\n"
   ]
  },
  {
   "cell_type": "code",
   "execution_count": 2,
   "id": "5781db71",
   "metadata": {},
   "outputs": [
    {
     "ename": "NameError",
     "evalue": "name '__file__' is not defined",
     "output_type": "error",
     "traceback": [
      "\u001b[1;31m---------------------------------------------------------------------------\u001b[0m",
      "\u001b[1;31mNameError\u001b[0m                                 Traceback (most recent call last)",
      "Cell \u001b[1;32mIn[2], line 9\u001b[0m\n\u001b[0;32m      5\u001b[0m \u001b[38;5;28;01mfrom\u001b[39;00m \u001b[38;5;21;01msklearn\u001b[39;00m\u001b[38;5;21;01m.\u001b[39;00m\u001b[38;5;21;01mmodel_selection\u001b[39;00m \u001b[38;5;28;01mimport\u001b[39;00m train_test_split\n\u001b[0;32m      7\u001b[0m \u001b[38;5;28;01mimport\u001b[39;00m \u001b[38;5;21;01mgradio\u001b[39;00m \u001b[38;5;28;01mas\u001b[39;00m \u001b[38;5;21;01mgr\u001b[39;00m\n\u001b[1;32m----> 9\u001b[0m current_dir \u001b[38;5;241m=\u001b[39m os\u001b[38;5;241m.\u001b[39mpath\u001b[38;5;241m.\u001b[39mdirname(os\u001b[38;5;241m.\u001b[39mpath\u001b[38;5;241m.\u001b[39mrealpath(\u001b[38;5;18;43m__file__\u001b[39;49m))\n\u001b[0;32m     10\u001b[0m data \u001b[38;5;241m=\u001b[39m pd\u001b[38;5;241m.\u001b[39mread_csv(os\u001b[38;5;241m.\u001b[39mpath\u001b[38;5;241m.\u001b[39mjoin(current_dir, \u001b[38;5;124m\"\u001b[39m\u001b[38;5;124mfiles/titanic.csv\u001b[39m\u001b[38;5;124m\"\u001b[39m))\n\u001b[0;32m     13\u001b[0m \u001b[38;5;28;01mdef\u001b[39;00m \u001b[38;5;21mencode_age\u001b[39m(df):\n",
      "\u001b[1;31mNameError\u001b[0m: name '__file__' is not defined"
     ]
    }
   ],
   "source": [
    "import os\n",
    "\n",
    "import pandas as pd\n",
    "from sklearn.ensemble import RandomForestClassifier\n",
    "from sklearn.model_selection import train_test_split\n",
    "\n",
    "import gradio as gr\n",
    "\n",
    "current_dir = os.path.dirname(os.path.realpath(__file__))\n",
    "data = pd.read_csv(os.path.join(current_dir, \"files/titanic.csv\"))\n",
    "\n",
    "\n",
    "def encode_age(df):\n",
    "    df.Age = df.Age.fillna(-0.5)\n",
    "    bins = (-1, 0, 5, 12, 18, 25, 35, 60, 120)\n",
    "    categories = pd.cut(df.Age, bins, labels=False)\n",
    "    df.Age = categories\n",
    "    return df\n",
    "\n",
    "\n",
    "def encode_fare(df):\n",
    "    df.Fare = df.Fare.fillna(-0.5)\n",
    "    bins = (-1, 0, 8, 15, 31, 1000)\n",
    "    categories = pd.cut(df.Fare, bins, labels=False)\n",
    "    df.Fare = categories\n",
    "    return df\n",
    "\n",
    "\n",
    "def encode_df(df):\n",
    "    df = encode_age(df)\n",
    "    df = encode_fare(df)\n",
    "    sex_mapping = {\"male\": 0, \"female\": 1}\n",
    "    df = df.replace({\"Sex\": sex_mapping})\n",
    "    embark_mapping = {\"S\": 1, \"C\": 2, \"Q\": 3}\n",
    "    df = df.replace({\"Embarked\": embark_mapping})\n",
    "    df.Embarked = df.Embarked.fillna(0)\n",
    "    df[\"Company\"] = 0\n",
    "    df.loc[(df[\"SibSp\"] > 0), \"Company\"] = 1\n",
    "    df.loc[(df[\"Parch\"] > 0), \"Company\"] = 2\n",
    "    df.loc[(df[\"SibSp\"] > 0) & (df[\"Parch\"] > 0), \"Company\"] = 3\n",
    "    df = df[\n",
    "        [\n",
    "            \"PassengerId\",\n",
    "            \"Pclass\",\n",
    "            \"Sex\",\n",
    "            \"Age\",\n",
    "            \"Fare\",\n",
    "            \"Embarked\",\n",
    "            \"Company\",\n",
    "            \"Survived\",\n",
    "        ]\n",
    "    ]\n",
    "    return df\n",
    "\n",
    "\n",
    "train = encode_df(data)\n",
    "\n",
    "X_all = train.drop([\"Survived\", \"PassengerId\"], axis=1)\n",
    "y_all = train[\"Survived\"]\n",
    "\n",
    "num_test = 0.20\n",
    "X_train, X_test, y_train, y_test = train_test_split(\n",
    "    X_all, y_all, test_size=num_test, random_state=23\n",
    ")\n",
    "\n",
    "clf = RandomForestClassifier()\n",
    "clf.fit(X_train, y_train)\n",
    "predictions = clf.predict(X_test)\n",
    "\n",
    "\n",
    "def predict_survival(passenger_class, is_male, age, company, fare, embark_point):\n",
    "    if passenger_class is None or embark_point is None:\n",
    "        return None\n",
    "    df = pd.DataFrame.from_dict(\n",
    "        {\n",
    "            \"Pclass\": [passenger_class + 1],\n",
    "            \"Sex\": [0 if is_male else 1],\n",
    "            \"Age\": [age],\n",
    "            \"Fare\": [fare],\n",
    "            \"Embarked\": [embark_point + 1],\n",
    "            \"Company\": [\n",
    "                (1 if \"Sibling\" in company else 0) + (2 if \"Child\" in company else 0)\n",
    "            ]\n",
    "        }\n",
    "    )\n",
    "    df = encode_age(df)\n",
    "    df = encode_fare(df)\n",
    "    pred = clf.predict_proba(df)[0]\n",
    "    return {\"Perishes\": float(pred[0]), \"Survives\": float(pred[1])}\n",
    "\n",
    "\n",
    "demo = gr.Interface(\n",
    "    predict_survival,\n",
    "    [\n",
    "        gr.Dropdown([\"first\", \"second\", \"third\"], type=\"index\"),\n",
    "        \"checkbox\",\n",
    "        gr.Slider(0, 80, value=25),\n",
    "        gr.CheckboxGroup([\"Sibling\", \"Child\"], label=\"Travelling with (select all)\"),\n",
    "        gr.Number(value=20),\n",
    "        gr.Radio([\"S\", \"C\", \"Q\"], type=\"index\"),\n",
    "    ],\n",
    "    \"label\",\n",
    "    examples=[\n",
    "        [\"first\", True, 30, [], 50, \"S\"],\n",
    "        [\"second\", False, 40, [\"Sibling\", \"Child\"], 10, \"Q\"],\n",
    "        [\"third\", True, 30, [\"Child\"], 20, \"S\"],\n",
    "    ],\n",
    "    interpretation=\"default\",\n",
    "    live=True,\n",
    ")\n",
    "\n",
    "if __name__ == \"__main__\":\n",
    "    demo.launch()\n"
   ]
  },
  {
   "cell_type": "code",
   "execution_count": null,
   "id": "3d23f282",
   "metadata": {},
   "outputs": [],
   "source": []
  },
  {
   "cell_type": "code",
   "execution_count": null,
   "id": "882e2a1d",
   "metadata": {},
   "outputs": [],
   "source": []
  },
  {
   "cell_type": "code",
   "execution_count": null,
   "id": "a113bd28",
   "metadata": {},
   "outputs": [],
   "source": []
  },
  {
   "cell_type": "code",
   "execution_count": null,
   "id": "cfddbd18",
   "metadata": {},
   "outputs": [],
   "source": []
  },
  {
   "cell_type": "code",
   "execution_count": null,
   "id": "9f717d4b",
   "metadata": {},
   "outputs": [],
   "source": []
  },
  {
   "cell_type": "code",
   "execution_count": null,
   "id": "87818bf3",
   "metadata": {},
   "outputs": [],
   "source": []
  },
  {
   "cell_type": "code",
   "execution_count": null,
   "id": "e8ae86e8",
   "metadata": {},
   "outputs": [],
   "source": []
  },
  {
   "cell_type": "code",
   "execution_count": null,
   "id": "c8207f75",
   "metadata": {},
   "outputs": [],
   "source": []
  },
  {
   "cell_type": "code",
   "execution_count": null,
   "id": "97d414cc",
   "metadata": {},
   "outputs": [],
   "source": []
  },
  {
   "cell_type": "code",
   "execution_count": null,
   "id": "35863b46",
   "metadata": {},
   "outputs": [],
   "source": []
  },
  {
   "cell_type": "code",
   "execution_count": null,
   "id": "f72951ea",
   "metadata": {},
   "outputs": [],
   "source": []
  }
 ],
 "metadata": {
  "hide_input": false,
  "kernelspec": {
   "display_name": "Python 3 (ipykernel)",
   "language": "python",
   "name": "python3"
  },
  "language_info": {
   "codemirror_mode": {
    "name": "ipython",
    "version": 3
   },
   "file_extension": ".py",
   "mimetype": "text/x-python",
   "name": "python",
   "nbconvert_exporter": "python",
   "pygments_lexer": "ipython3",
   "version": "3.10.11"
  },
  "toc": {
   "base_numbering": 1,
   "nav_menu": {},
   "number_sections": true,
   "sideBar": true,
   "skip_h1_title": false,
   "title_cell": "Table of Contents",
   "title_sidebar": "Contents",
   "toc_cell": false,
   "toc_position": {},
   "toc_section_display": true,
   "toc_window_display": false
  }
 },
 "nbformat": 4,
 "nbformat_minor": 5
}
