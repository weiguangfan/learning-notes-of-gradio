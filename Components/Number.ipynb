{
 "cells": [
  {
   "cell_type": "code",
   "execution_count": 1,
   "id": "ff39b34c",
   "metadata": {},
   "outputs": [
    {
     "name": "stdout",
     "output_type": "stream",
     "text": [
      "Running on local URL:  http://127.0.0.1:7890\n",
      "\n",
      "To create a public link, set `share=True` in `launch()`.\n"
     ]
    },
    {
     "data": {
      "text/html": [
       "<div><iframe src=\"http://127.0.0.1:7890/\" width=\"100%\" height=\"500\" allow=\"autoplay; camera; microphone; clipboard-read; clipboard-write;\" frameborder=\"0\" allowfullscreen></iframe></div>"
      ],
      "text/plain": [
       "<IPython.core.display.HTML object>"
      ]
     },
     "metadata": {},
     "output_type": "display_data"
    },
    {
     "data": {
      "text/plain": []
     },
     "execution_count": 1,
     "metadata": {},
     "output_type": "execute_result"
    }
   ],
   "source": [
    "import gradio as gr\n",
    "\n",
    "def tax_calculator(income, marital_status, assets):\n",
    "    tax_brackets = [(10, 0), (25, 8), (60, 12), (120, 20), (250, 30)]\n",
    "    total_deductible = sum(assets[\"Cost\"])\n",
    "    taxable_income = income - total_deductible\n",
    "\n",
    "    total_tax = 0\n",
    "    for bracket, rate in tax_brackets:\n",
    "        if taxable_income > bracket:\n",
    "            total_tax += (taxable_income - bracket) * rate / 100\n",
    "\n",
    "    if marital_status == \"Married\":\n",
    "        total_tax *= 0.75\n",
    "    elif marital_status == \"Divorced\":\n",
    "        total_tax *= 0.8\n",
    "\n",
    "    return round(total_tax)\n",
    "\n",
    "demo = gr.Interface(\n",
    "    tax_calculator,\n",
    "    [\n",
    "        \"number\",\n",
    "        gr.Radio([\"Single\", \"Married\", \"Divorced\"]),\n",
    "        gr.Dataframe(\n",
    "            headers=[\"Item\", \"Cost\"],\n",
    "            datatype=[\"str\", \"number\"],\n",
    "            label=\"Assets Purchased this Year\",\n",
    "        ),\n",
    "    ],\n",
    "    \"number\",\n",
    "    examples=[\n",
    "        [10000, \"Married\", [[\"Suit\", 5000], [\"Laptop\", 800], [\"Car\", 1800]]],\n",
    "        [80000, \"Single\", [[\"Suit\", 800], [\"Watch\", 1800], [\"Car\", 800]]],\n",
    "    ],\n",
    ")\n",
    "\n",
    "demo.launch()\n"
   ]
  },
  {
   "cell_type": "code",
   "execution_count": null,
   "id": "d5f3ddd9",
   "metadata": {},
   "outputs": [],
   "source": [
    "import os\n",
    "\n",
    "import pandas as pd\n",
    "from sklearn.ensemble import RandomForestClassifier\n",
    "from sklearn.model_selection import train_test_split\n",
    "\n",
    "import gradio as gr\n",
    "\n",
    "current_dir = os.path.dirname(os.path.realpath(__file__))\n",
    "data = pd.read_csv(os.path.join(current_dir, \"files/titanic.csv\"))\n",
    "\n",
    "\n",
    "def encode_age(df):\n",
    "    df.Age = df.Age.fillna(-0.5)\n",
    "    bins = (-1, 0, 5, 12, 18, 25, 35, 60, 120)\n",
    "    categories = pd.cut(df.Age, bins, labels=False)\n",
    "    df.Age = categories\n",
    "    return df\n",
    "\n",
    "\n",
    "def encode_fare(df):\n",
    "    df.Fare = df.Fare.fillna(-0.5)\n",
    "    bins = (-1, 0, 8, 15, 31, 1000)\n",
    "    categories = pd.cut(df.Fare, bins, labels=False)\n",
    "    df.Fare = categories\n",
    "    return df\n",
    "\n",
    "\n",
    "def encode_df(df):\n",
    "    df = encode_age(df)\n",
    "    df = encode_fare(df)\n",
    "    sex_mapping = {\"male\": 0, \"female\": 1}\n",
    "    df = df.replace({\"Sex\": sex_mapping})\n",
    "    embark_mapping = {\"S\": 1, \"C\": 2, \"Q\": 3}\n",
    "    df = df.replace({\"Embarked\": embark_mapping})\n",
    "    df.Embarked = df.Embarked.fillna(0)\n",
    "    df[\"Company\"] = 0\n",
    "    df.loc[(df[\"SibSp\"] > 0), \"Company\"] = 1\n",
    "    df.loc[(df[\"Parch\"] > 0), \"Company\"] = 2\n",
    "    df.loc[(df[\"SibSp\"] > 0) & (df[\"Parch\"] > 0), \"Company\"] = 3\n",
    "    df = df[\n",
    "        [\n",
    "            \"PassengerId\",\n",
    "            \"Pclass\",\n",
    "            \"Sex\",\n",
    "            \"Age\",\n",
    "            \"Fare\",\n",
    "            \"Embarked\",\n",
    "            \"Company\",\n",
    "            \"Survived\",\n",
    "        ]\n",
    "    ]\n",
    "    return df\n",
    "\n",
    "\n",
    "train = encode_df(data)\n",
    "\n",
    "X_all = train.drop([\"Survived\", \"PassengerId\"], axis=1)\n",
    "y_all = train[\"Survived\"]\n",
    "\n",
    "num_test = 0.20\n",
    "X_train, X_test, y_train, y_test = train_test_split(\n",
    "    X_all, y_all, test_size=num_test, random_state=23\n",
    ")\n",
    "\n",
    "clf = RandomForestClassifier()\n",
    "clf.fit(X_train, y_train)\n",
    "predictions = clf.predict(X_test)\n",
    "\n",
    "\n",
    "def predict_survival(passenger_class, is_male, age, company, fare, embark_point):\n",
    "    if passenger_class is None or embark_point is None:\n",
    "        return None\n",
    "    df = pd.DataFrame.from_dict(\n",
    "        {\n",
    "            \"Pclass\": [passenger_class + 1],\n",
    "            \"Sex\": [0 if is_male else 1],\n",
    "            \"Age\": [age],\n",
    "            \"Fare\": [fare],\n",
    "            \"Embarked\": [embark_point + 1],\n",
    "            \"Company\": [\n",
    "                (1 if \"Sibling\" in company else 0) + (2 if \"Child\" in company else 0)\n",
    "            ]\n",
    "        }\n",
    "    )\n",
    "    df = encode_age(df)\n",
    "    df = encode_fare(df)\n",
    "    pred = clf.predict_proba(df)[0]\n",
    "    return {\"Perishes\": float(pred[0]), \"Survives\": float(pred[1])}\n",
    "\n",
    "\n",
    "demo = gr.Interface(\n",
    "    predict_survival,\n",
    "    [\n",
    "        gr.Dropdown([\"first\", \"second\", \"third\"], type=\"index\"),\n",
    "        \"checkbox\",\n",
    "        gr.Slider(0, 80, value=25),\n",
    "        gr.CheckboxGroup([\"Sibling\", \"Child\"], label=\"Travelling with (select all)\"),\n",
    "        gr.Number(value=20),\n",
    "        gr.Radio([\"S\", \"C\", \"Q\"], type=\"index\"),\n",
    "    ],\n",
    "    \"label\",\n",
    "    examples=[\n",
    "        [\"first\", True, 30, [], 50, \"S\"],\n",
    "        [\"second\", False, 40, [\"Sibling\", \"Child\"], 10, \"Q\"],\n",
    "        [\"third\", True, 30, [\"Child\"], 20, \"S\"],\n",
    "    ],\n",
    "    interpretation=\"default\",\n",
    "    live=True,\n",
    ")\n",
    "\n",
    "if __name__ == \"__main__\":\n",
    "    demo.launch()\n"
   ]
  },
  {
   "cell_type": "code",
   "execution_count": 2,
   "id": "0a1c7396",
   "metadata": {},
   "outputs": [
    {
     "name": "stdout",
     "output_type": "stream",
     "text": [
      "Running on local URL:  http://127.0.0.1:7891\n",
      "\n",
      "To create a public link, set `share=True` in `launch()`.\n"
     ]
    },
    {
     "data": {
      "text/html": [
       "<div><iframe src=\"http://127.0.0.1:7891/\" width=\"100%\" height=\"500\" allow=\"autoplay; camera; microphone; clipboard-read; clipboard-write;\" frameborder=\"0\" allowfullscreen></iframe></div>"
      ],
      "text/plain": [
       "<IPython.core.display.HTML object>"
      ]
     },
     "metadata": {},
     "output_type": "display_data"
    }
   ],
   "source": [
    "import gradio as gr\n",
    "\n",
    "demo = gr.Blocks(css=\"\"\"#btn {color: red} .abc {font-family: \"Comic Sans MS\", \"Comic Sans\", cursive !important}\"\"\")\n",
    "\n",
    "with demo:\n",
    "    default_json = {\"a\": \"a\"}\n",
    "\n",
    "    num = gr.State(value=0)\n",
    "    squared = gr.Number(value=0)\n",
    "    btn = gr.Button(\"Next Square\", elem_id=\"btn\", elem_classes=[\"abc\", \"def\"])\n",
    "\n",
    "    stats = gr.State(value=default_json)\n",
    "    table = gr.JSON()\n",
    "\n",
    "    def increase(var, stats_history):\n",
    "        var += 1\n",
    "        stats_history[str(var)] = var**2\n",
    "        return var, var**2, stats_history, stats_history\n",
    "\n",
    "    btn.click(increase, [num, stats], [num, squared, stats, table])\n",
    "\n",
    "if __name__ == \"__main__\":\n",
    "    demo.launch()\n"
   ]
  },
  {
   "cell_type": "code",
   "execution_count": null,
   "id": "5905d803",
   "metadata": {},
   "outputs": [],
   "source": []
  }
 ],
 "metadata": {
  "hide_input": false,
  "kernelspec": {
   "display_name": "Python 3 (ipykernel)",
   "language": "python",
   "name": "python3"
  },
  "language_info": {
   "codemirror_mode": {
    "name": "ipython",
    "version": 3
   },
   "file_extension": ".py",
   "mimetype": "text/x-python",
   "name": "python",
   "nbconvert_exporter": "python",
   "pygments_lexer": "ipython3",
   "version": "3.10.11"
  },
  "toc": {
   "base_numbering": 1,
   "nav_menu": {},
   "number_sections": true,
   "sideBar": true,
   "skip_h1_title": false,
   "title_cell": "Table of Contents",
   "title_sidebar": "Contents",
   "toc_cell": false,
   "toc_position": {},
   "toc_section_display": true,
   "toc_window_display": false
  }
 },
 "nbformat": 4,
 "nbformat_minor": 5
}
